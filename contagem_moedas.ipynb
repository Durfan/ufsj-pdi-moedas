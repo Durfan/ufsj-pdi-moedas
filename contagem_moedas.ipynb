{
 "cells": [
  {
   "cell_type": "code",
   "execution_count": 64,
   "metadata": {},
   "outputs": [],
   "source": [
    "import cv2 as cv\n",
    "import numpy as np"
   ]
  },
  {
   "cell_type": "code",
   "execution_count": 105,
   "metadata": {},
   "outputs": [],
   "source": [
    "class ContagemMoedas:\n",
    "    def __init__(self, image_path):\n",
    "            self.img = cv.imread(image_path)  # Carrega a imagem\n",
    "            self.moedas = 0  # Inicializa o contador de moedas\n",
    "            self.total_value = 0  # Inicializa o valor total das moedas\n",
    "            self.diameters = []  # Inicializa a lista de diâmetros das moedas\n",
    "\n",
    "    def __get_background_color(self):\n",
    "        region = (0, 10, 0, 10)\n",
    "        roi = self.img[region[0]:region[1], region[2]:region[3]]\n",
    "        self.bg_color = np.median(roi, axis=(0, 1)).astype(np.uint8)\n",
    "\n",
    "    def __pre_process(self): \n",
    "        self.__get_background_color()\n",
    "        mask = cv.inRange(self.img, self.bg_color, self.bg_color)\n",
    "        self.inverted = cv.bitwise_not(mask)\n",
    "        kernel = np.ones((5, 5), np.uint8)\n",
    "        erosion = cv.erode(self.inverted, kernel, iterations=1)\n",
    "        return erosion\n",
    "\n",
    "    def __detecta_moedas(self):\n",
    "        img_pre_processed = self.__pre_process()\n",
    "        edges = cv.Canny(img_pre_processed, 100, 200)\n",
    "        self.contours, _ = cv.findContours(edges, cv.RETR_EXTERNAL, cv.CHAIN_APPROX_SIMPLE)\n",
    "\n",
    "    def __processa_img(self):\n",
    "        self.__detecta_moedas()\n",
    "        for contour in self.contours:\n",
    "            area = cv.contourArea(contour)\n",
    "            approx = cv.approxPolyDP(contour, 0.02 * cv.arcLength(contour, True), True)\n",
    "\n",
    "            if len(approx) >= 8 and area > 100:\n",
    "                (x, y, w, h) = cv.boundingRect(approx)\n",
    "                diameter = max(w, h)\n",
    "                self.diameters.append(diameter)\n",
    "                cv.drawContours(self.img, [contour], -1, (0, 255, 0), 2)\n",
    "\n",
    "    def _classifica_moeda(self, diameter):\n",
    "        # Calcular o diâmetro normalizado da moeda\n",
    "        normalized_diameter = diameter / self.max_diameter\n",
    "\n",
    "        if 0.72 <= normalized_diameter <= 0.76:\n",
    "            return 0.10  # 10 centavos\n",
    "        elif 0.78 <= normalized_diameter <= 0.83:\n",
    "            return 0.05  # 5 centavos\n",
    "        elif 0.84 <= normalized_diameter <= 0.87:\n",
    "            return 0.50  # 50 centavos\n",
    "        elif 0.9 <= normalized_diameter <= 0.93:\n",
    "            return 0.25  # 25 centavos\n",
    "        elif 0.98 <= normalized_diameter <= 1.1:\n",
    "            return 1.00  # 1 real\n",
    "        else:\n",
    "            return 0.00 # Não identificado\n",
    "\n",
    "    def _classifica_moeda_euro(self, diameter):\n",
    "        # Calcular o diâmetro normalizado da moeda\n",
    "        normalized_diameter = diameter / self.max_diameter\n",
    "\n",
    "        if 0.61 <= normalized_diameter <= 0.65:\n",
    "            return 0.01  # 1 cents\n",
    "        elif 0.71 <= normalized_diameter <= 0.74:\n",
    "            return 0.02  # 2 cents\n",
    "        elif 0.76 <= normalized_diameter <= 0.78:\n",
    "            return 0.05  # 5 cents\n",
    "        elif 0.80 <= normalized_diameter <= 0.83: #\n",
    "            return 0.10  # 10 cents\n",
    "        elif 0.84 <= normalized_diameter <= 0.87: #\n",
    "            return 0.20  # 20 cents\n",
    "        elif 0.88 <= normalized_diameter <= 0.90: #\n",
    "            return 0.50  # 50 cents\n",
    "        elif 0.92 <= normalized_diameter <= 0.94: #\n",
    "            return 1.00  # 1 euro\n",
    "        elif 0.98 <= normalized_diameter <= 1.1: #\n",
    "            return 2.00  # 2 euros\n",
    "        else:\n",
    "            return 0.00 # Não identificado\n",
    "\n",
    "    def __conta_moedas(self):\n",
    "        self.max_diameter = max(self.diameters)\n",
    "        for diameter in self.diameters:\n",
    "            self.total_value += self._classifica_moeda(diameter)\n",
    "            self.moedas += 1\n",
    "\n",
    "    def __conta_moedas_euro(self):\n",
    "        self.max_diameter = max(self.diameters)\n",
    "        for diameter in self.diameters:\n",
    "            self.total_value += self._classifica_moeda_euro(diameter)\n",
    "            self.moedas += 1\n",
    "\n",
    "    def show_image(self):\n",
    "        cv.imshow('Moedas', self.img)\n",
    "        cv.waitKey(0)\n",
    "        cv.destroyAllWindows()\n",
    "\n",
    "    def get_total_value(self):\n",
    "        return self.total_value\n",
    "\n",
    "    def get_moedas(self):\n",
    "        return self.moedas\n",
    "\n",
    "    def get_diameters(self):\n",
    "        return self.diameters\n",
    "\n",
    "    def run(self):\n",
    "        self.__processa_img()\n",
    "        self.__conta_moedas()\n",
    "        self.show_image()\n",
    "\n",
    "    def run_euro(self):\n",
    "        self.__processa_img()\n",
    "        self.__conta_moedas_euro()\n",
    "        self.show_image()"
   ]
  },
  {
   "cell_type": "code",
   "execution_count": 116,
   "metadata": {},
   "outputs": [
    {
     "name": "stdout",
     "output_type": "stream",
     "text": [
      "Número de moedas: 41\n",
      "Valor total das moedas: R$10.35\n"
     ]
    }
   ],
   "source": [
    "image_path = 'imgs/teste8.png'\n",
    "contaMoedas = ContagemMoedas(image_path)\n",
    "contaMoedas.run()\n",
    "\n",
    "moedas = contaMoedas.get_moedas()\n",
    "total = contaMoedas.get_total_value()\n",
    "\n",
    "print(f\"Número de moedas: {moedas}\")\n",
    "print(f\"Valor total das moedas: R${total:.2f}\")"
   ]
  },
  {
   "cell_type": "code",
   "execution_count": 108,
   "metadata": {},
   "outputs": [
    {
     "name": "stdout",
     "output_type": "stream",
     "text": [
      "Número de moedas: 8\n",
      "Valor total das moedas: 3.88 euros\n"
     ]
    }
   ],
   "source": [
    "image_path = 'imgs/teste1_euro.png'\n",
    "contaMoedas = ContagemMoedas(image_path)\n",
    "contaMoedas.run_euro()\n",
    "\n",
    "moedas = contaMoedas.get_moedas()\n",
    "total = contaMoedas.get_total_value()\n",
    "\n",
    "print(f\"Número de moedas: {moedas}\")\n",
    "print(f\"Valor total das moedas: {total:.2f} euros\")"
   ]
  },
  {
   "cell_type": "code",
   "execution_count": null,
   "metadata": {},
   "outputs": [],
   "source": []
  }
 ],
 "metadata": {
  "kernelspec": {
   "display_name": ".venv",
   "language": "python",
   "name": "python3"
  },
  "language_info": {
   "codemirror_mode": {
    "name": "ipython",
    "version": 3
   },
   "file_extension": ".py",
   "mimetype": "text/x-python",
   "name": "python",
   "nbconvert_exporter": "python",
   "pygments_lexer": "ipython3",
   "version": "3.11.3"
  },
  "orig_nbformat": 4
 },
 "nbformat": 4,
 "nbformat_minor": 2
}
